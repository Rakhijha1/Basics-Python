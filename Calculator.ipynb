{
 "cells": [
  {
   "cell_type": "code",
   "execution_count": null,
   "id": "68e70e53",
   "metadata": {},
   "outputs": [],
   "source": [
    "while True:\n",
    "    i = int(input())\n",
    "    if(i == 1):\n",
    "        a = int(input())\n",
    "        b = int(input())\n",
    "        c = a+b\n",
    "        print(c)\n",
    "    elif(i == 2):\n",
    "        a = int(input())\n",
    "        b = int(input())\n",
    "        c = a-b\n",
    "        print(c)\n",
    "    elif(i == 3):\n",
    "        a = int(input())\n",
    "        b = int(input())\n",
    "        c = a*b\n",
    "        print(c)\n",
    "    elif(i == 4):\n",
    "        a = int(input())\n",
    "        b = int(input())\n",
    "        c = a/b\n",
    "        print(int(c))\n",
    "    elif(i == 5):\n",
    "        a = int(input())\n",
    "        b = int(input())\n",
    "        c = a//b\n",
    "        print(int(c))\n",
    "    elif(i == 6):\n",
    "        quit()\n",
    "    else:\n",
    "        print(\"Invalid Operation\")"
   ]
  },
  {
   "cell_type": "code",
   "execution_count": null,
   "id": "9f3aaa09",
   "metadata": {},
   "outputs": [],
   "source": []
  }
 ],
 "metadata": {
  "kernelspec": {
   "display_name": "Python 3 (ipykernel)",
   "language": "python",
   "name": "python3"
  },
  "language_info": {
   "codemirror_mode": {
    "name": "ipython",
    "version": 3
   },
   "file_extension": ".py",
   "mimetype": "text/x-python",
   "name": "python",
   "nbconvert_exporter": "python",
   "pygments_lexer": "ipython3",
   "version": "3.9.13"
  }
 },
 "nbformat": 4,
 "nbformat_minor": 5
}
