{
 "cells": [
  {
   "cell_type": "markdown",
   "id": "7d30c7e1",
   "metadata": {},
   "source": [
    "# Write a program that performs the tasks of a simple calculator. The program should first take an integer as input and then based on that integer perform the task as given below.\n",
    "1. If the input is 1, then 2 integers are taken from the user and their sum is printed.\n",
    "2. If the input is 2, then 2 integers are taken from the user and their difference(1st number - 2nd number) is printed.\n",
    "3. If the input is 3, then 2 integers are taken from the user and their product is printed.\n",
    "4. If the input is 4, then 2 integers are taken from the user and the quotient obtained (on dividing 1st number by 2nd number) is printed.\n",
    "5. If the input is 5, then 2 integers are taken from the user and their remainder(1st number mod 2nd number) is printed.\n",
    "6. If the input is 6, then the program exits.\n",
    "7. For any other input, then print \"Invalid Operation\".\n",
    "Note: Each answer in next line."
   ]
  },
  {
   "cell_type": "markdown",
   "id": "519c3458",
   "metadata": {},
   "source": [
    "while True:\n",
    "    i = int(input())\n",
    "    if(i == 1):\n",
    "        a = int(input())\n",
    "        b = int(input())\n",
    "        c = a+b\n",
    "        print(c)\n",
    "    elif(i == 2):\n",
    "        a = int(input())\n",
    "        b = int(input())\n",
    "        c = a-b\n",
    "        print(c)\n",
    "    elif(i == 3):\n",
    "        a = int(input())\n",
    "        b = int(input())\n",
    "        c = a*b\n",
    "        print(c)\n",
    "    elif(i == 4):\n",
    "        a = int(input())\n",
    "        b = int(input())\n",
    "        c = a/b\n",
    "        print(int(c))\n",
    "    elif(i == 5):\n",
    "        a = int(input())\n",
    "        b = int(input())\n",
    "        c = a//b\n",
    "        print(int(c))\n",
    "    elif(i == 6):\n",
    "        quit()\n",
    "    else:\n",
    "        print(\"Invalid Operation\")"
   ]
  }
 ],
 "metadata": {
  "kernelspec": {
   "display_name": "Python 3 (ipykernel)",
   "language": "python",
   "name": "python3"
  },
  "language_info": {
   "codemirror_mode": {
    "name": "ipython",
    "version": 3
   },
   "file_extension": ".py",
   "mimetype": "text/x-python",
   "name": "python",
   "nbconvert_exporter": "python",
   "pygments_lexer": "ipython3",
   "version": "3.9.13"
  }
 },
 "nbformat": 4,
 "nbformat_minor": 5
}
